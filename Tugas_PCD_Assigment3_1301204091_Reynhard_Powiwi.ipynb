{
  "cells": [
    {
      "cell_type": "markdown",
      "metadata": {
        "id": "view-in-github",
        "colab_type": "text"
      },
      "source": [
        "<a href=\"https://colab.research.google.com/github/reypowgithub/Tugas_PCD_TelU_2023/blob/main/Tugas_PCD_Assigment3_1301204091_Reynhard_Powiwi.ipynb\" target=\"_parent\"><img src=\"https://colab.research.google.com/assets/colab-badge.svg\" alt=\"Open In Colab\"/></a>"
      ]
    },
    {
      "cell_type": "markdown",
      "metadata": {
        "id": "2_Hce84oDFsO"
      },
      "source": [
        "**CII4F3 PEMROSESAN CITRA DIGITAL**\n",
        "\n",
        "---\n",
        "\n",
        "# Assignment 3: Histogram Equalization\n",
        "\n",
        "---\n",
        "\n",
        "<p>Nama = Reynhard Powiwi</p>\n",
        "<p>Kelas = IF-44-PIL-IS02 📚👨‍🎓</p>\n",
        "\n",
        "---\n",
        "\n",
        "Buat program tentang histogram equalization menggunakan bahasa Python (kerjakan di Google Colab)\n",
        "\n",
        "Tugas dikerjakan di Google Colab.\n",
        "\n",
        "Pengumpulan tugas\n",
        "1. Tuliskan dari mana source codenya 📦\n",
        "2. Gunakan input citra RGB yang dibuat sendiri / milik sendiri\n",
        "3. Program harus menampilkan citra asal  dan histogramnya serta citra output beserta histogramnya.\n",
        "4. Hasil pekerjaan Unggah ke LMS ini file .ipynb 📸\n",
        "5. Lalu, kirim link google colab-nya  ke email dosen pengampu dengan body email(gammakosala@telkomuniversity.ac.id) \"Tugas_PCD_Assigment3_NIM_NAMA\"\n"
      ]
    },
    {
      "cell_type": "markdown",
      "metadata": {
        "id": "EZXHWfcSim1p"
      },
      "source": [
        "1) lakukan import library dan inputan gambar"
      ]
    },
    {
      "cell_type": "code",
      "execution_count": null,
      "metadata": {
        "colab": {
          "base_uri": "https://localhost:8080/",
          "height": 89
        },
        "id": "-WuFWncOZVXh",
        "outputId": "cd834b69-eea0-4f13-bbda-f32e8a302412"
      },
      "outputs": [
        {
          "output_type": "display_data",
          "data": {
            "text/plain": [
              "<IPython.core.display.HTML object>"
            ],
            "text/html": [
              "\n",
              "     <input type=\"file\" id=\"files-9703cd1c-7fe5-4c74-89af-90aa945c8a75\" name=\"files[]\" multiple disabled\n",
              "        style=\"border:none\" />\n",
              "     <output id=\"result-9703cd1c-7fe5-4c74-89af-90aa945c8a75\">\n",
              "      Upload widget is only available when the cell has been executed in the\n",
              "      current browser session. Please rerun this cell to enable.\n",
              "      </output>\n",
              "      <script>// Copyright 2017 Google LLC\n",
              "//\n",
              "// Licensed under the Apache License, Version 2.0 (the \"License\");\n",
              "// you may not use this file except in compliance with the License.\n",
              "// You may obtain a copy of the License at\n",
              "//\n",
              "//      http://www.apache.org/licenses/LICENSE-2.0\n",
              "//\n",
              "// Unless required by applicable law or agreed to in writing, software\n",
              "// distributed under the License is distributed on an \"AS IS\" BASIS,\n",
              "// WITHOUT WARRANTIES OR CONDITIONS OF ANY KIND, either express or implied.\n",
              "// See the License for the specific language governing permissions and\n",
              "// limitations under the License.\n",
              "\n",
              "/**\n",
              " * @fileoverview Helpers for google.colab Python module.\n",
              " */\n",
              "(function(scope) {\n",
              "function span(text, styleAttributes = {}) {\n",
              "  const element = document.createElement('span');\n",
              "  element.textContent = text;\n",
              "  for (const key of Object.keys(styleAttributes)) {\n",
              "    element.style[key] = styleAttributes[key];\n",
              "  }\n",
              "  return element;\n",
              "}\n",
              "\n",
              "// Max number of bytes which will be uploaded at a time.\n",
              "const MAX_PAYLOAD_SIZE = 100 * 1024;\n",
              "\n",
              "function _uploadFiles(inputId, outputId) {\n",
              "  const steps = uploadFilesStep(inputId, outputId);\n",
              "  const outputElement = document.getElementById(outputId);\n",
              "  // Cache steps on the outputElement to make it available for the next call\n",
              "  // to uploadFilesContinue from Python.\n",
              "  outputElement.steps = steps;\n",
              "\n",
              "  return _uploadFilesContinue(outputId);\n",
              "}\n",
              "\n",
              "// This is roughly an async generator (not supported in the browser yet),\n",
              "// where there are multiple asynchronous steps and the Python side is going\n",
              "// to poll for completion of each step.\n",
              "// This uses a Promise to block the python side on completion of each step,\n",
              "// then passes the result of the previous step as the input to the next step.\n",
              "function _uploadFilesContinue(outputId) {\n",
              "  const outputElement = document.getElementById(outputId);\n",
              "  const steps = outputElement.steps;\n",
              "\n",
              "  const next = steps.next(outputElement.lastPromiseValue);\n",
              "  return Promise.resolve(next.value.promise).then((value) => {\n",
              "    // Cache the last promise value to make it available to the next\n",
              "    // step of the generator.\n",
              "    outputElement.lastPromiseValue = value;\n",
              "    return next.value.response;\n",
              "  });\n",
              "}\n",
              "\n",
              "/**\n",
              " * Generator function which is called between each async step of the upload\n",
              " * process.\n",
              " * @param {string} inputId Element ID of the input file picker element.\n",
              " * @param {string} outputId Element ID of the output display.\n",
              " * @return {!Iterable<!Object>} Iterable of next steps.\n",
              " */\n",
              "function* uploadFilesStep(inputId, outputId) {\n",
              "  const inputElement = document.getElementById(inputId);\n",
              "  inputElement.disabled = false;\n",
              "\n",
              "  const outputElement = document.getElementById(outputId);\n",
              "  outputElement.innerHTML = '';\n",
              "\n",
              "  const pickedPromise = new Promise((resolve) => {\n",
              "    inputElement.addEventListener('change', (e) => {\n",
              "      resolve(e.target.files);\n",
              "    });\n",
              "  });\n",
              "\n",
              "  const cancel = document.createElement('button');\n",
              "  inputElement.parentElement.appendChild(cancel);\n",
              "  cancel.textContent = 'Cancel upload';\n",
              "  const cancelPromise = new Promise((resolve) => {\n",
              "    cancel.onclick = () => {\n",
              "      resolve(null);\n",
              "    };\n",
              "  });\n",
              "\n",
              "  // Wait for the user to pick the files.\n",
              "  const files = yield {\n",
              "    promise: Promise.race([pickedPromise, cancelPromise]),\n",
              "    response: {\n",
              "      action: 'starting',\n",
              "    }\n",
              "  };\n",
              "\n",
              "  cancel.remove();\n",
              "\n",
              "  // Disable the input element since further picks are not allowed.\n",
              "  inputElement.disabled = true;\n",
              "\n",
              "  if (!files) {\n",
              "    return {\n",
              "      response: {\n",
              "        action: 'complete',\n",
              "      }\n",
              "    };\n",
              "  }\n",
              "\n",
              "  for (const file of files) {\n",
              "    const li = document.createElement('li');\n",
              "    li.append(span(file.name, {fontWeight: 'bold'}));\n",
              "    li.append(span(\n",
              "        `(${file.type || 'n/a'}) - ${file.size} bytes, ` +\n",
              "        `last modified: ${\n",
              "            file.lastModifiedDate ? file.lastModifiedDate.toLocaleDateString() :\n",
              "                                    'n/a'} - `));\n",
              "    const percent = span('0% done');\n",
              "    li.appendChild(percent);\n",
              "\n",
              "    outputElement.appendChild(li);\n",
              "\n",
              "    const fileDataPromise = new Promise((resolve) => {\n",
              "      const reader = new FileReader();\n",
              "      reader.onload = (e) => {\n",
              "        resolve(e.target.result);\n",
              "      };\n",
              "      reader.readAsArrayBuffer(file);\n",
              "    });\n",
              "    // Wait for the data to be ready.\n",
              "    let fileData = yield {\n",
              "      promise: fileDataPromise,\n",
              "      response: {\n",
              "        action: 'continue',\n",
              "      }\n",
              "    };\n",
              "\n",
              "    // Use a chunked sending to avoid message size limits. See b/62115660.\n",
              "    let position = 0;\n",
              "    do {\n",
              "      const length = Math.min(fileData.byteLength - position, MAX_PAYLOAD_SIZE);\n",
              "      const chunk = new Uint8Array(fileData, position, length);\n",
              "      position += length;\n",
              "\n",
              "      const base64 = btoa(String.fromCharCode.apply(null, chunk));\n",
              "      yield {\n",
              "        response: {\n",
              "          action: 'append',\n",
              "          file: file.name,\n",
              "          data: base64,\n",
              "        },\n",
              "      };\n",
              "\n",
              "      let percentDone = fileData.byteLength === 0 ?\n",
              "          100 :\n",
              "          Math.round((position / fileData.byteLength) * 100);\n",
              "      percent.textContent = `${percentDone}% done`;\n",
              "\n",
              "    } while (position < fileData.byteLength);\n",
              "  }\n",
              "\n",
              "  // All done.\n",
              "  yield {\n",
              "    response: {\n",
              "      action: 'complete',\n",
              "    }\n",
              "  };\n",
              "}\n",
              "\n",
              "scope.google = scope.google || {};\n",
              "scope.google.colab = scope.google.colab || {};\n",
              "scope.google.colab._files = {\n",
              "  _uploadFiles,\n",
              "  _uploadFilesContinue,\n",
              "};\n",
              "})(self);\n",
              "</script> "
            ]
          },
          "metadata": {}
        },
        {
          "output_type": "stream",
          "name": "stdout",
          "text": [
            "Saving overexposed_gambar1.jpg to overexposed_gambar1.jpg\n",
            "dict_keys(['overexposed_gambar1.jpg'])\n"
          ]
        }
      ],
      "source": [
        "# Import Library\n",
        "import numpy as np\n",
        "import cv2\n",
        "from matplotlib import pyplot as plt\n",
        "from google.colab import files  # Import library for file uploads\n",
        "from google.colab.patches import cv2_imshow\n",
        "\n",
        "# Buat untuk dapat melakukan upload gambar\n",
        "uploaded = files.upload()\n",
        "\n",
        "# Print list of uploaded files\n",
        "print(uploaded.keys())\n",
        "\n"
      ]
    },
    {
      "cell_type": "markdown",
      "source": [
        "Pertama yang harus kita lakukan adalah mengimport semua library yang dibutuhkan untuk pengerjaan project ini. kemudian kita membuat inputan files untuk memasukan citra yang akan kita proses."
      ],
      "metadata": {
        "id": "vs_x2S32uxhp"
      }
    },
    {
      "cell_type": "markdown",
      "metadata": {
        "id": "N0yxQdXMjCSd"
      },
      "source": [
        "2) Menampilkan citra"
      ]
    },
    {
      "cell_type": "code",
      "execution_count": null,
      "metadata": {
        "colab": {
          "base_uri": "https://localhost:8080/",
          "height": 802
        },
        "id": "iqksD47DZp5x",
        "outputId": "503f3159-b56e-4a46-cd17-01d80a81b11b"
      },
      "outputs": [],
      "source": [
        "# Pilih file yang ingin Anda gunakan\n",
        "file_name = list(uploaded.keys())[0]\n",
        "\n",
        "# Memuat gamber menggunakan CV2\n",
        "img = cv2.imread(file_name, -1)\n",
        "\n",
        "# menampilkan citra\n",
        "cv2_imshow(img)"
      ]
    },
    {
      "cell_type": "code",
      "execution_count": null,
      "metadata": {
        "colab": {
          "base_uri": "https://localhost:8080/",
          "height": 472
        },
        "id": "cp7KKr__Wvte",
        "outputId": "bca3aa7a-e56b-4008-be27-9fd720e50fde"
      },
      "outputs": [
        {
          "output_type": "display_data",
          "data": {
            "text/plain": [
              "<Figure size 640x480 with 1 Axes>"
            ],
            "image/png": "[encoded data removed]"
          },
          "metadata": {}
        }
      ],
      "source": [
        "#Melihat Histogram\n",
        "color = ('b','g','r')\n",
        "for channel, col in enumerate(color):\n",
        "    histr = cv2.calcHist([img], [channel], None, [256], [0, 256])\n",
        "    histr = histr.flatten().astype(int)\n",
        "    x = np.arange(256)\n",
        "    plt.bar(x, histr, color=col)\n",
        "    plt.xlim([0, 256])\n",
        "\n",
        "plt.title('Histogram for color scale picture')\n",
        "plt.xlabel('Pixel Value')\n",
        "plt.ylabel('Frequency')\n",
        "plt.legend(['Blue', 'Green', 'Red'])\n",
        "plt.show()"
      ]
    },
    {
      "cell_type": "markdown",
      "metadata": {
        "id": "b9aNEtWnr9qp"
      },
      "source": [
        "Kemudian kita menampilkan citra menggunakan CV2 dan membuat Histogram untuk menampikan frekuensi dan nilai piksel pada gambar yang telah dimasukan. Pada Histogram diatas kita dapat melihat bahwa penyebaran warna tidak merata dan meningkat ke sebelah kanan sehingga kita dapat melihat bahwa gambar yang dimasukan mengalami over-exposed dimana gambar terlalu terang sehingga objek tidak kelihatan."
      ]
    },
    {
      "cell_type": "markdown",
      "metadata": {
        "id": "4oC0NMbZrjBN"
      },
      "source": [
        "3) Membuat Histogram Equalization"
      ]
    },
    {
      "cell_type": "code",
      "execution_count": null,
      "metadata": {
        "colab": {
          "base_uri": "https://localhost:8080/",
          "height": 802
        },
        "id": "U563UyhmYukR",
        "outputId": "d0029dc0-6974-4a3c-ecf9-f4afc5ab56a8"
      },
      "outputs": [],
      "source": [
        "# Pastikan citra dalam mode warna RGB\n",
        "if len(img.shape) == 2:\n",
        "    img = cv2.cvtColor(img, cv2.COLOR_GRAY2BGR)\n",
        "\n",
        "# Pisahkan kanal warna\n",
        "b, g, r = cv2.split(img)\n",
        "\n",
        "# Histogram Equalization untuk setiap kanal\n",
        "b_equalized = cv2.equalizeHist(b)\n",
        "g_equalized = cv2.equalizeHist(g)\n",
        "r_equalized = cv2.equalizeHist(r)\n",
        "\n",
        "# Gabungkan kanal yang sudah diubah\n",
        "equalized_img = cv2.merge((b_equalized, g_equalized, r_equalized))\n",
        "\n",
        "# Simpan hasil equalization dan peningkatan kontras ke file gambar\n",
        "cv2.imwrite('result.jpg', equalized_img)\n",
        "\n",
        "img_result = cv2.imread('result.jpg', -1)  # Gunakan mode '-1' untuk citra RGB\n",
        "\n",
        "# menampilkan citra\n",
        "cv2_imshow(img_result)"
      ]
    },
    {
      "cell_type": "code",
      "execution_count": null,
      "metadata": {
        "colab": {
          "base_uri": "https://localhost:8080/",
          "height": 472
        },
        "id": "0OFjl1uqZofD",
        "outputId": "d441b52d-3278-41d1-c4f6-12f7c5bfd123"
      },
      "outputs": [
        {
          "output_type": "display_data",
          "data": {
            "text/plain": [
              "<Figure size 640x480 with 1 Axes>"
            ],
            "image/png": "[encoded data removed]"
          },
          "metadata": {}
        }
      ],
      "source": [
        "#Melihat Histogram\n",
        "for channel, col in enumerate(color):\n",
        "    histr = cv2.calcHist([img_result], [channel], None, [256], [0, 256])\n",
        "    histr = histr.flatten().astype(int)\n",
        "    x = np.arange(256)\n",
        "    plt.bar(x, histr, color=col)\n",
        "    plt.xlim([0, 256])\n",
        "\n",
        "plt.title('Histogram for color scale picture')\n",
        "plt.xlabel('Pixel Value')\n",
        "plt.ylabel('Frequency')\n",
        "plt.legend(['Blue', 'Green', 'Red'])\n",
        "plt.show()"
      ]
    },
    {
      "cell_type": "markdown",
      "metadata": {
        "id": "vbHtxroGEaSX"
      },
      "source": [
        "Setelah melakukan Histogram Equalization, kita dapat melihat penyebaran warna pada histogram menjadi lebih merata. Hal ini juga yang pada akhirnya membuat gambar yang sebelumnya over-exposed sehingga objek tidak kelihatan, sekarang sudah menjadi lebih baik dan objek lebih kelihatan\n",
        "\n",
        "---\n",
        "\n",
        "**Referensi:**\n",
        "\n",
        "*     [IMAGE HISTOGRAM]( https://www.bogotobogo.com/python/OpenCV_Python/python_opencv3_image_histogram_calcHist.php)\n",
        "*    [Histogram Equalization in Python]( https://code.tutsplus.com/histogram-equalization-in-python--cms-30202t)\n",
        "\n",
        "\n",
        "\n",
        "\n",
        "\n"
      ]
    }
  ],
  "metadata": {
    "colab": {
      "provenance": [],
      "authorship_tag": "ABX9TyPH6yOWFYJvp62KRXvFx8qx",
      "include_colab_link": true
    },
    "kernelspec": {
      "display_name": "Python 3",
      "name": "python3"
    },
    "language_info": {
      "name": "python"
    }
  },
  "nbformat": 4,
  "nbformat_minor": 0
}